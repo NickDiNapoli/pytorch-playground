{
 "cells": [
  {
   "cell_type": "code",
   "execution_count": null,
   "metadata": {},
   "outputs": [],
   "source": [
    "import torch\n",
    "\n",
    "from src.pytorch_playground.utils import data_setup, model_builder, train\n",
    "\n"
   ]
  },
  {
   "cell_type": "code",
   "execution_count": null,
   "metadata": {},
   "outputs": [],
   "source": [
    "train_dataloader, test_dataloader, class_names = data_setup.create_dataloaders(\n",
    "                                                                train_dir=path/to/train_dir,\n",
    "                                                                test_dir=path/to/test_dir,\n",
    "                                                                transform=some_transform,\n",
    "                                                                batch_size=32,\n",
    "                                                                num_workers=4\n",
    "                                                                )"
   ]
  },
  {
   "cell_type": "code",
   "execution_count": null,
   "metadata": {},
   "outputs": [],
   "source": [
    "torch.manual_seed(42)\n",
    "device = \"cuda\" if torch.cuda.is_available() else \"cpu\"\n",
    "# device = torch.device(\"mps\") if torch.backends.mps.is_available() else \"cpu\"\n",
    "model = model_builder.TinyVGG(input_shape=3,\n",
    "                              hidden_units=10, \n",
    "                              output_shape=len(class_names)).to(device)"
   ]
  },
  {
   "cell_type": "code",
   "execution_count": null,
   "metadata": {},
   "outputs": [],
   "source": [
    "train.train(model=, \n",
    "            train_dataloader=, \n",
    "            test_dataloader=, \n",
    "            optimizer=,\n",
    "            loss_fn=,\n",
    "            epochs=,\n",
    "            device=)"
   ]
  }
 ],
 "metadata": {
  "language_info": {
   "name": "python"
  }
 },
 "nbformat": 4,
 "nbformat_minor": 2
}
