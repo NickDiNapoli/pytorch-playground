{
 "cells": [
  {
   "cell_type": "code",
   "execution_count": 126,
   "metadata": {},
   "outputs": [],
   "source": [
    "import warnings\n",
    "warnings.filterwarnings('ignore')\n",
    "import random\n",
    "\n",
    "import torch\n",
    "from torch import nn \n",
    "from torch.utils.data import DataLoader\n",
    "\n",
    "import torchvision\n",
    "from torchvision import datasets\n",
    "from torchvision.transforms import ToTensor\n",
    "from torchmetrics import ConfusionMatrix\n",
    "from mlxtend.plotting import plot_confusion_matrix\n",
    "\n",
    "\n",
    "import pandas as pd\n",
    "import matplotlib.pyplot as plt\n",
    "\n",
    "from timeit import default_timer as timer \n",
    "from tqdm import tqdm"
   ]
  },
  {
   "cell_type": "code",
   "execution_count": 42,
   "metadata": {},
   "outputs": [],
   "source": [
    "train_data = datasets.FashionMNIST(\n",
    "    root=\"data\",\n",
    "    train=True, \n",
    "    download=True, \n",
    "    transform=ToTensor(), \n",
    "    target_transform=None\n",
    ")\n",
    "\n",
    "test_data = datasets.FashionMNIST(\n",
    "    root=\"data\",\n",
    "    train=False,\n",
    "    download=True,\n",
    "    transform=ToTensor()\n",
    ")"
   ]
  },
  {
   "cell_type": "code",
   "execution_count": 43,
   "metadata": {},
   "outputs": [
    {
     "data": {
      "text/plain": [
       "(60000, 60000, 10000, 10000)"
      ]
     },
     "execution_count": 43,
     "metadata": {},
     "output_type": "execute_result"
    }
   ],
   "source": [
    "len(train_data.data), len(train_data.targets), len(test_data.data), len(test_data.targets)"
   ]
  },
  {
   "cell_type": "code",
   "execution_count": 44,
   "metadata": {},
   "outputs": [
    {
     "data": {
      "text/plain": [
       "['T-shirt/top',\n",
       " 'Trouser',\n",
       " 'Pullover',\n",
       " 'Dress',\n",
       " 'Coat',\n",
       " 'Sandal',\n",
       " 'Shirt',\n",
       " 'Sneaker',\n",
       " 'Bag',\n",
       " 'Ankle boot']"
      ]
     },
     "execution_count": 44,
     "metadata": {},
     "output_type": "execute_result"
    }
   ],
   "source": [
    "train_data.classes"
   ]
  },
  {
   "cell_type": "code",
   "execution_count": 45,
   "metadata": {},
   "outputs": [
    {
     "name": "stdout",
     "output_type": "stream",
     "text": [
      "torch.Size([1, 28, 28]) torch.float32 9\n"
     ]
    }
   ],
   "source": [
    "image, label = train_data[0]\n",
    "print(image.shape, image.dtype, label) #NCHW"
   ]
  },
  {
   "cell_type": "code",
   "execution_count": 46,
   "metadata": {},
   "outputs": [
    {
     "data": {
      "text/plain": [
       "Text(0.5, 1.0, '9')"
      ]
     },
     "execution_count": 46,
     "metadata": {},
     "output_type": "execute_result"
    },
    {
     "data": {
      "image/png": "[encoded data removed]",
      "text/plain": [
       "<Figure size 640x480 with 1 Axes>"
      ]
     },
     "metadata": {},
     "output_type": "display_data"
    }
   ],
   "source": [
    "plt.imshow(image.squeeze(), cmap='gray')\n",
    "plt.title(label)"
   ]
  },
  {
   "cell_type": "code",
   "execution_count": 47,
   "metadata": {},
   "outputs": [
    {
     "name": "stdout",
     "output_type": "stream",
     "text": [
      "60000\n",
      "Train dataloader: 1875 batches of 32\n",
      "Test dataloader: 313 batches of 32\n"
     ]
    }
   ],
   "source": [
    "BATCH_SIZE = 32\n",
    "\n",
    "train_dataloader = DataLoader(train_data, \n",
    "                              batch_size=BATCH_SIZE,\n",
    "                              shuffle=True\n",
    ")\n",
    "test_dataloader = DataLoader(test_data,\n",
    "                             batch_size=BATCH_SIZE,\n",
    "                             shuffle=False\n",
    ")\n",
    "print(len(train_dataloader.dataset))\n",
    "print(f\"Train dataloader: {len(train_dataloader)} batches of {BATCH_SIZE}\")\n",
    "print(f\"Test dataloader: {len(test_dataloader)} batches of {BATCH_SIZE}\")"
   ]
  },
  {
   "cell_type": "code",
   "execution_count": 48,
   "metadata": {},
   "outputs": [
    {
     "data": {
      "text/plain": [
       "(torch.Size([32, 1, 28, 28]), torch.Size([32]))"
      ]
     },
     "execution_count": 48,
     "metadata": {},
     "output_type": "execute_result"
    }
   ],
   "source": [
    "# NCHW\n",
    "train_features_batch, train_labels_batch = next(iter(train_dataloader))\n",
    "train_features_batch.shape, train_labels_batch.shape"
   ]
  },
  {
   "cell_type": "code",
   "execution_count": 62,
   "metadata": {},
   "outputs": [],
   "source": [
    "# model 0 \n",
    "class VanillaModel(nn.Module):\n",
    "    def __init__(self, input_shape: int, hidden_units: int, output_shape: int):\n",
    "        super().__init__()\n",
    "        self.layer_stack = nn.Sequential(\n",
    "            nn.Flatten(),\n",
    "            nn.Linear(in_features=input_shape, out_features=hidden_units), # in_features will be H X W\n",
    "            nn.Linear(in_features=hidden_units, out_features=output_shape)\n",
    "        )\n",
    "    \n",
    "    def forward(self, x):\n",
    "        return self.layer_stack(x)"
   ]
  },
  {
   "cell_type": "code",
   "execution_count": 65,
   "metadata": {},
   "outputs": [],
   "source": [
    "# model 1\n",
    "class NonLinearModel(nn.Module):\n",
    "    def __init__(self, input_shape: int, hidden_units: int, output_shape: int):\n",
    "        super().__init__()\n",
    "        self.layer_stack = nn.Sequential(\n",
    "            nn.Flatten(),\n",
    "            nn.Linear(in_features=input_shape, out_features=hidden_units),\n",
    "            nn.ReLU(),\n",
    "            nn.Linear(in_features=hidden_units, out_features=output_shape),\n",
    "            nn.ReLU()\n",
    "        )\n",
    "    \n",
    "    def forward(self, x: torch.Tensor):\n",
    "        return self.layer_stack(x)"
   ]
  },
  {
   "cell_type": "code",
   "execution_count": 64,
   "metadata": {},
   "outputs": [],
   "source": [
    "def compute_accuracy(y_true, y_pred):\n",
    "    tp_tn = torch.eq(y_true, y_pred).sum().item()\n",
    "    acc = (tp_tn / len(y_pred)) * 100 \n",
    "    return acc\n",
    "\n",
    "\n",
    "def print_train_time(start: float, end: float, device: torch.device = None):\n",
    "    torch.mps.synchronize()\n",
    "    total_time = end - start\n",
    "    print(f\"Train time on {device}: {total_time:.2f} seconds\")\n",
    "    return total_time"
   ]
  },
  {
   "cell_type": "code",
   "execution_count": 50,
   "metadata": {},
   "outputs": [
    {
     "data": {
      "text/plain": [
       "VanillaModel(\n",
       "  (layer_stack): Sequential(\n",
       "    (0): Flatten(start_dim=1, end_dim=-1)\n",
       "    (1): Linear(in_features=784, out_features=10, bias=True)\n",
       "    (2): Linear(in_features=10, out_features=10, bias=True)\n",
       "  )\n",
       ")"
      ]
     },
     "execution_count": 50,
     "metadata": {},
     "output_type": "execute_result"
    }
   ],
   "source": [
    "torch.manual_seed(42)\n",
    "\n",
    "model_0 = VanillaModel(input_shape=image.shape[1]*image.shape[2],\n",
    "                       hidden_units=10,\n",
    "                       output_shape=len(train_data.classes)\n",
    ")\n",
    "model_0.to(\"cpu\")"
   ]
  },
  {
   "cell_type": "code",
   "execution_count": 80,
   "metadata": {},
   "outputs": [
    {
     "name": "stdout",
     "output_type": "stream",
     "text": [
      "cpu\n",
      "cpu\n"
     ]
    }
   ],
   "source": [
    "print(str(next(model_0.parameters()).device))\n",
    "\n",
    "device = \"cuda\" if torch.cuda.is_available() else \"cpu\"\n",
    "print(device)"
   ]
  },
  {
   "cell_type": "code",
   "execution_count": 52,
   "metadata": {},
   "outputs": [],
   "source": [
    "loss_fn = nn.CrossEntropyLoss()\n",
    "optimizer = torch.optim.SGD(params=model_0.parameters(), lr=0.1)"
   ]
  },
  {
   "cell_type": "code",
   "execution_count": 69,
   "metadata": {},
   "outputs": [
    {
     "name": "stderr",
     "output_type": "stream",
     "text": [
      "  0%|          | 0/10 [00:00<?, ?it/s]"
     ]
    },
    {
     "name": "stdout",
     "output_type": "stream",
     "text": [
      "Epoch: 0\n"
     ]
    },
    {
     "name": "stderr",
     "output_type": "stream",
     "text": [
      " 10%|█         | 1/10 [00:01<00:14,  1.66s/it]"
     ]
    },
    {
     "name": "stdout",
     "output_type": "stream",
     "text": [
      "\n",
      "Training loss: 0.40684 | Testing loss: 0.48635, Test acc: 82.22%\n",
      "\n",
      "Epoch: 1\n"
     ]
    },
    {
     "name": "stderr",
     "output_type": "stream",
     "text": [
      " 20%|██        | 2/10 [00:03<00:13,  1.65s/it]"
     ]
    },
    {
     "name": "stdout",
     "output_type": "stream",
     "text": [
      "\n",
      "Training loss: 0.40684 | Testing loss: 0.48635, Test acc: 82.22%\n",
      "\n",
      "Epoch: 2\n"
     ]
    },
    {
     "name": "stderr",
     "output_type": "stream",
     "text": [
      " 30%|███       | 3/10 [00:04<00:11,  1.63s/it]"
     ]
    },
    {
     "name": "stdout",
     "output_type": "stream",
     "text": [
      "\n",
      "Training loss: 0.40684 | Testing loss: 0.48635, Test acc: 82.22%\n",
      "\n",
      "Epoch: 3\n"
     ]
    },
    {
     "name": "stderr",
     "output_type": "stream",
     "text": [
      " 40%|████      | 4/10 [00:06<00:09,  1.65s/it]"
     ]
    },
    {
     "name": "stdout",
     "output_type": "stream",
     "text": [
      "\n",
      "Training loss: 0.40684 | Testing loss: 0.48635, Test acc: 82.22%\n",
      "\n",
      "Epoch: 4\n"
     ]
    },
    {
     "name": "stderr",
     "output_type": "stream",
     "text": [
      " 50%|█████     | 5/10 [00:08<00:08,  1.64s/it]"
     ]
    },
    {
     "name": "stdout",
     "output_type": "stream",
     "text": [
      "\n",
      "Training loss: 0.40684 | Testing loss: 0.48635, Test acc: 82.22%\n",
      "\n",
      "Epoch: 5\n"
     ]
    },
    {
     "name": "stderr",
     "output_type": "stream",
     "text": [
      " 60%|██████    | 6/10 [00:09<00:06,  1.62s/it]"
     ]
    },
    {
     "name": "stdout",
     "output_type": "stream",
     "text": [
      "\n",
      "Training loss: 0.40684 | Testing loss: 0.48635, Test acc: 82.22%\n",
      "\n",
      "Epoch: 6\n"
     ]
    },
    {
     "name": "stderr",
     "output_type": "stream",
     "text": [
      " 70%|███████   | 7/10 [00:11<00:04,  1.62s/it]"
     ]
    },
    {
     "name": "stdout",
     "output_type": "stream",
     "text": [
      "\n",
      "Training loss: 0.40684 | Testing loss: 0.48635, Test acc: 82.22%\n",
      "\n",
      "Epoch: 7\n"
     ]
    },
    {
     "name": "stderr",
     "output_type": "stream",
     "text": [
      " 80%|████████  | 8/10 [00:13<00:03,  1.62s/it]"
     ]
    },
    {
     "name": "stdout",
     "output_type": "stream",
     "text": [
      "\n",
      "Training loss: 0.40684 | Testing loss: 0.48635, Test acc: 82.22%\n",
      "\n",
      "Epoch: 8\n"
     ]
    },
    {
     "name": "stderr",
     "output_type": "stream",
     "text": [
      " 90%|█████████ | 9/10 [00:14<00:01,  1.63s/it]"
     ]
    },
    {
     "name": "stdout",
     "output_type": "stream",
     "text": [
      "\n",
      "Training loss: 0.40684 | Testing loss: 0.48635, Test acc: 82.22%\n",
      "\n",
      "Epoch: 9\n"
     ]
    },
    {
     "name": "stderr",
     "output_type": "stream",
     "text": [
      "100%|██████████| 10/10 [00:16<00:00,  1.63s/it]"
     ]
    },
    {
     "name": "stdout",
     "output_type": "stream",
     "text": [
      "\n",
      "Training loss: 0.40684 | Testing loss: 0.48635, Test acc: 82.22%\n",
      "\n",
      "Train time on cpu: 16.27 seconds\n"
     ]
    },
    {
     "name": "stderr",
     "output_type": "stream",
     "text": [
      "\n"
     ]
    }
   ],
   "source": [
    "train_time_start = timer()\n",
    "epochs = 10\n",
    "\n",
    "for epoch in tqdm(range(epochs)):\n",
    "    print(f\"Epoch: {epoch}\")\n",
    "\n",
    "    # Training\n",
    "    train_loss = 0 \n",
    "    \n",
    "    for batch, (X, y) in enumerate(train_dataloader):\n",
    "        model_0.train() \n",
    "    \n",
    "        y_pred = model_0(X)\n",
    "        loss = loss_fn(y_pred, y)\n",
    "        train_loss += loss\n",
    "\n",
    "        optimizer.zero_grad()\n",
    "        loss.backward()\n",
    "        optimizer.step()\n",
    "\n",
    "    train_loss /= len(train_dataloader)\n",
    "    \n",
    "    # Testing\n",
    "    test_loss = 0\n",
    "    test_acc = 0 \n",
    "    model_0.eval()\n",
    "\n",
    "    with torch.inference_mode():\n",
    "        for X, y in test_dataloader:\n",
    "            \n",
    "            test_pred = model_0(X)\n",
    "            test_loss += loss_fn(test_pred, y)\n",
    "            test_acc += compute_accuracy(y_true=y, y_pred=test_pred.argmax(dim=1))\n",
    "        \n",
    "        # per batch\n",
    "        test_loss /= len(test_dataloader)\n",
    "        test_acc /= len(test_dataloader)\n",
    "\n",
    "    print(f\"\\nTraining loss: {train_loss:.5f} | Testing loss: {test_loss:.5f}, Test acc: {test_acc:.2f}%\\n\")\n",
    "\n",
    "\n",
    "train_time_end = timer()\n",
    "train_time_model_0 = print_train_time(start=train_time_start, \n",
    "                                      end=train_time_end,\n",
    "                                      device=str(next(model_0.parameters()).device))"
   ]
  },
  {
   "cell_type": "code",
   "execution_count": 82,
   "metadata": {},
   "outputs": [],
   "source": [
    "def evaluate_model(model: torch.nn.Module, \n",
    "                   data_loader: torch.utils.data.DataLoader, \n",
    "                   loss_fn: torch.nn.Module, \n",
    "                   accuracy_fn,\n",
    "                   device: torch.device = device):\n",
    "    \"\"\"\n",
    "    Returns a dictionary containing the results of model predicting on data_loader.\n",
    "\n",
    "    Args:\n",
    "        model (torch.nn.Module): A PyTorch model capable of making predictions on data_loader.\n",
    "        data_loader (torch.utils.data.DataLoader): The target dataset to predict on.\n",
    "        loss_fn (torch.nn.Module): The loss function of model.\n",
    "        accuracy_fn: An accuracy function to compare the models predictions to the truth labels.\n",
    "\n",
    "    Returns:\n",
    "        (dict): Results of model making predictions on data_loader.\n",
    "    \"\"\"\n",
    "    loss = 0\n",
    "    acc = 0\n",
    "    model.eval()\n",
    "    \n",
    "    with torch.inference_mode():\n",
    "        for X, y in data_loader:\n",
    "            # send data to the target device\n",
    "            X, y = X.to(device), y.to(device)\n",
    "\n",
    "            y_pred = model(X)\n",
    "            \n",
    "            loss += loss_fn(y_pred, y)\n",
    "            acc += accuracy_fn(y_true=y, y_pred=y_pred.argmax(dim=1))\n",
    "        \n",
    "        # per batch\n",
    "        loss /= len(data_loader)\n",
    "        acc /= len(data_loader)\n",
    "        \n",
    "    return {\"model_name\": model.__class__.__name__,\n",
    "            \"model_loss\": loss.item(),\n",
    "            \"model_accuracy\": acc}\n"
   ]
  },
  {
   "cell_type": "code",
   "execution_count": 83,
   "metadata": {},
   "outputs": [
    {
     "data": {
      "text/plain": [
       "{'model_name': 'VanillaModel',\n",
       " 'model_loss': 0.4863521456718445,\n",
       " 'model_accuracy': 82.21845047923323}"
      ]
     },
     "execution_count": 83,
     "metadata": {},
     "output_type": "execute_result"
    }
   ],
   "source": [
    "# model 0 results on test set\n",
    "model_0_results = evaluate_model(model=model_0, \n",
    "                                 data_loader=test_dataloader,\n",
    "                                 loss_fn=loss_fn, \n",
    "                                 accuracy_fn=compute_accuracy,\n",
    "                                 device=device\n",
    ")\n",
    "model_0_results"
   ]
  },
  {
   "cell_type": "code",
   "execution_count": 84,
   "metadata": {},
   "outputs": [
    {
     "name": "stdout",
     "output_type": "stream",
     "text": [
      "cpu\n",
      "tensor([1.], device='mps:0')\n"
     ]
    }
   ],
   "source": [
    "device = \"cuda\" if torch.cuda.is_available() else \"cpu\"\n",
    "print(device)\n",
    "\n",
    "# using M chip Mac\n",
    "if torch.backends.mps.is_available():\n",
    "   device = torch.device(\"mps\")\n",
    "   x = torch.ones(1, device=device)\n",
    "   print(x)\n",
    "else:\n",
    "   print(\"MPS device not found.\")"
   ]
  },
  {
   "cell_type": "code",
   "execution_count": 85,
   "metadata": {},
   "outputs": [
    {
     "name": "stdout",
     "output_type": "stream",
     "text": [
      "mps:0\n"
     ]
    }
   ],
   "source": [
    "torch.manual_seed(42)\n",
    "\n",
    "model_1 = NonLinearModel(input_shape=image.shape[1]*image.shape[2],\n",
    "                         hidden_units=10,\n",
    "                         output_shape=len(train_data.classes)\n",
    ").to(device) # send model to GPU if it's available\n",
    "\n",
    "print(str(next(model_1.parameters()).device))"
   ]
  },
  {
   "cell_type": "code",
   "execution_count": 86,
   "metadata": {},
   "outputs": [],
   "source": [
    "loss_fn = nn.CrossEntropyLoss()\n",
    "optimizer = torch.optim.SGD(params=model_1.parameters(), lr=0.1)"
   ]
  },
  {
   "cell_type": "code",
   "execution_count": 87,
   "metadata": {},
   "outputs": [],
   "source": [
    "def train_model(model: torch.nn.Module,\n",
    "                data_loader: torch.utils.data.DataLoader,\n",
    "                loss_fn: torch.nn.Module,\n",
    "                optimizer: torch.optim.Optimizer,\n",
    "                accuracy_fn,\n",
    "                device: torch.device = device):\n",
    "\n",
    "    # Training\n",
    "    train_loss = 0 \n",
    "    train_acc = 0\n",
    "    model.to(device)\n",
    "\n",
    "    for batch, (X, y) in enumerate(data_loader):\n",
    "        # send data to GPU\n",
    "        X, y = X.to(device), y.to(device)\n",
    "    \n",
    "        y_pred = model(X)\n",
    "        loss = loss_fn(y_pred, y)\n",
    "        train_loss += loss\n",
    "        train_acc += accuracy_fn(y_true=y, y_pred=y_pred.argmax(dim=1))\n",
    "\n",
    "        optimizer.zero_grad()\n",
    "        loss.backward()\n",
    "        optimizer.step()\n",
    "\n",
    "    train_loss /= len(train_dataloader)\n",
    "    train_acc /= len(data_loader)\n",
    "\n",
    "    print(f\"Training loss: {train_loss:.5f} | Training accuracy: {train_acc:.2f}%\")\n",
    "\n",
    "\n",
    "def test_model(model: torch.nn.Module,\n",
    "               data_loader: torch.utils.data.DataLoader,\n",
    "               loss_fn: torch.nn.Module,\n",
    "               accuracy_fn,\n",
    "               device: torch.device = device):\n",
    "    \n",
    "    # Testing\n",
    "    test_loss = 0\n",
    "    test_acc = 0 \n",
    "    model.to(device)\n",
    "    model_0.eval()\n",
    "\n",
    "    with torch.inference_mode():\n",
    "        for X, y in data_loader:\n",
    "            # send data to GPU\n",
    "            X, y = X.to(device), y.to(device)\n",
    "            \n",
    "            test_pred = model(X)\n",
    "            test_loss += loss_fn(test_pred, y)\n",
    "            test_acc += accuracy_fn(y_true=y, y_pred=test_pred.argmax(dim=1))\n",
    "        \n",
    "        # per batch\n",
    "        test_loss /= len(test_dataloader)\n",
    "        test_acc /= len(test_dataloader)\n",
    "\n",
    "    print(f\"Testing loss: {test_loss:.5f} | Testing accuracy: {test_acc:.2f}%\\n\")"
   ]
  },
  {
   "cell_type": "code",
   "execution_count": 89,
   "metadata": {},
   "outputs": [
    {
     "name": "stderr",
     "output_type": "stream",
     "text": [
      "  0%|          | 0/10 [00:00<?, ?it/s]"
     ]
    },
    {
     "name": "stdout",
     "output_type": "stream",
     "text": [
      "Epoch: 0\n",
      "Training loss: 0.84214 | Training accuracy: 70.16%\n"
     ]
    },
    {
     "name": "stderr",
     "output_type": "stream",
     "text": [
      " 10%|█         | 1/10 [00:06<00:56,  6.31s/it]"
     ]
    },
    {
     "name": "stdout",
     "output_type": "stream",
     "text": [
      "Testing loss: 0.71671 | Testing accuracy: 73.79%\n",
      "\n",
      "Epoch: 1\n"
     ]
    },
    {
     "name": "stderr",
     "output_type": "stream",
     "text": [
      " 20%|██        | 2/10 [00:11<00:47,  5.88s/it]"
     ]
    },
    {
     "name": "stdout",
     "output_type": "stream",
     "text": [
      "Training loss: 0.67697 | Training accuracy: 75.44%\n",
      "Epoch: 2\n",
      "Training loss: 0.65150 | Training accuracy: 76.26%\n"
     ]
    },
    {
     "name": "stderr",
     "output_type": "stream",
     "text": [
      " 30%|███       | 3/10 [00:17<00:41,  5.98s/it]"
     ]
    },
    {
     "name": "stdout",
     "output_type": "stream",
     "text": [
      "Testing loss: 0.66602 | Testing accuracy: 75.82%\n",
      "\n",
      "Epoch: 3\n"
     ]
    },
    {
     "name": "stderr",
     "output_type": "stream",
     "text": [
      " 40%|████      | 4/10 [00:23<00:34,  5.76s/it]"
     ]
    },
    {
     "name": "stdout",
     "output_type": "stream",
     "text": [
      "Training loss: 0.63573 | Training accuracy: 76.72%\n",
      "Epoch: 4\n",
      "Training loss: 0.62549 | Training accuracy: 77.06%\n"
     ]
    },
    {
     "name": "stderr",
     "output_type": "stream",
     "text": [
      " 50%|█████     | 5/10 [00:29<00:29,  5.93s/it]"
     ]
    },
    {
     "name": "stdout",
     "output_type": "stream",
     "text": [
      "Testing loss: 0.65772 | Testing accuracy: 75.78%\n",
      "\n",
      "Epoch: 5\n"
     ]
    },
    {
     "name": "stderr",
     "output_type": "stream",
     "text": [
      " 60%|██████    | 6/10 [00:35<00:23,  5.83s/it]"
     ]
    },
    {
     "name": "stdout",
     "output_type": "stream",
     "text": [
      "Training loss: 0.61992 | Training accuracy: 77.16%\n",
      "Epoch: 6\n",
      "Training loss: 0.61418 | Training accuracy: 77.24%\n"
     ]
    },
    {
     "name": "stderr",
     "output_type": "stream",
     "text": [
      " 70%|███████   | 7/10 [00:41<00:17,  5.92s/it]"
     ]
    },
    {
     "name": "stdout",
     "output_type": "stream",
     "text": [
      "Testing loss: 0.64065 | Testing accuracy: 76.59%\n",
      "\n",
      "Epoch: 7\n"
     ]
    },
    {
     "name": "stderr",
     "output_type": "stream",
     "text": [
      " 80%|████████  | 8/10 [00:47<00:11,  5.87s/it]"
     ]
    },
    {
     "name": "stdout",
     "output_type": "stream",
     "text": [
      "Training loss: 0.60846 | Training accuracy: 77.46%\n",
      "Epoch: 8\n",
      "Training loss: 0.60431 | Training accuracy: 77.53%\n"
     ]
    },
    {
     "name": "stderr",
     "output_type": "stream",
     "text": [
      " 90%|█████████ | 9/10 [00:53<00:05,  5.97s/it]"
     ]
    },
    {
     "name": "stdout",
     "output_type": "stream",
     "text": [
      "Testing loss: 0.64988 | Testing accuracy: 76.40%\n",
      "\n",
      "Epoch: 9\n"
     ]
    },
    {
     "name": "stderr",
     "output_type": "stream",
     "text": [
      "100%|██████████| 10/10 [00:59<00:00,  5.91s/it]"
     ]
    },
    {
     "name": "stdout",
     "output_type": "stream",
     "text": [
      "Training loss: 0.60098 | Training accuracy: 77.81%\n",
      "Train time on mps: 59.09 seconds\n"
     ]
    },
    {
     "name": "stderr",
     "output_type": "stream",
     "text": [
      "\n"
     ]
    }
   ],
   "source": [
    "train_time_start = timer()\n",
    "epochs = 10\n",
    "\n",
    "for epoch in tqdm(range(epochs)):\n",
    "    print(f\"Epoch: {epoch}\")\n",
    "\n",
    "    train_model(data_loader=train_dataloader, \n",
    "                model=model_1, \n",
    "                loss_fn=loss_fn,\n",
    "                optimizer=optimizer,\n",
    "                accuracy_fn=compute_accuracy\n",
    "    )\n",
    "    if epoch % 2 == 0:\n",
    "        test_model(model=model_1,\n",
    "                data_loader=test_dataloader,\n",
    "                loss_fn=loss_fn,\n",
    "                accuracy_fn=compute_accuracy\n",
    "        )\n",
    "\n",
    "train_time_end = timer()\n",
    "train_time_model_1 = print_train_time(start=train_time_start, \n",
    "                                      end=train_time_end,\n",
    "                                      device=device)"
   ]
  },
  {
   "cell_type": "code",
   "execution_count": 90,
   "metadata": {},
   "outputs": [],
   "source": [
    "# model 1 results on test set\n",
    "model_1_results = evaluate_model(model=model_1, \n",
    "                                 data_loader=test_dataloader,\n",
    "                                 loss_fn=loss_fn, \n",
    "                                 accuracy_fn=compute_accuracy,\n",
    "                                 device=device\n",
    ")"
   ]
  },
  {
   "cell_type": "code",
   "execution_count": 91,
   "metadata": {},
   "outputs": [
    {
     "name": "stdout",
     "output_type": "stream",
     "text": [
      "{'model_name': 'VanillaModel', 'model_loss': 0.4863521456718445, 'model_accuracy': 82.21845047923323}\n",
      "{'model_name': 'NonLinearModel', 'model_loss': 0.6520592570304871, 'model_accuracy': 76.15814696485623}\n"
     ]
    }
   ],
   "source": [
    "print(model_0_results)\n",
    "print(model_1_results)"
   ]
  },
  {
   "cell_type": "markdown",
   "metadata": {},
   "source": [
    "# CNN - TinyVGG"
   ]
  },
  {
   "cell_type": "code",
   "execution_count": 102,
   "metadata": {},
   "outputs": [
    {
     "name": "stdout",
     "output_type": "stream",
     "text": [
      "torch.Size([3, 64, 64])\n",
      "torch.Size([1, 10, 30, 30])\n",
      "torch.Size([1, 10, 15, 15])\n"
     ]
    }
   ],
   "source": [
    "test_images = torch.randn(size=(32, 3, 64, 64))\n",
    "test_image = test_images[0]\n",
    "\n",
    "conv_layer = nn.Conv2d(in_channels=3,\n",
    "                         out_channels=10,\n",
    "                         kernel_size=(5, 5),\n",
    "                         stride=2,\n",
    "                         padding=0)\n",
    "max_pool_layer = nn.MaxPool2d(kernel_size=2)\n",
    "\n",
    "print(test_image.shape)\n",
    "print(conv_layer(test_image.unsqueeze(dim=0)).shape)\n",
    "print(max_pool_layer(conv_layer(test_image.unsqueeze(dim=0))).shape)"
   ]
  },
  {
   "cell_type": "code",
   "execution_count": 95,
   "metadata": {},
   "outputs": [
    {
     "name": "stdout",
     "output_type": "stream",
     "text": [
      "OrderedDict([('weight', tensor([[[[-1.0788e-01,  5.9426e-02,  1.1359e-03,  6.1827e-03, -1.4073e-02],\n",
      "          [-1.6203e-02,  5.4726e-02, -7.6181e-02,  9.3466e-02, -8.5709e-02],\n",
      "          [ 3.1117e-02,  4.7625e-02,  4.4068e-02,  5.2393e-02,  9.9105e-02],\n",
      "          [-6.3450e-02,  1.1040e-01,  6.3507e-03,  6.3543e-02,  7.5569e-02],\n",
      "          [ 1.7745e-02,  4.6209e-02,  7.0248e-02,  1.6617e-02,  1.0131e-01]],\n",
      "\n",
      "         [[-2.6650e-02, -2.9258e-02,  3.3528e-03,  7.2465e-02,  6.8792e-02],\n",
      "          [-8.5270e-02, -8.6530e-02,  4.1514e-02,  1.0900e-03,  6.0747e-02],\n",
      "          [ 8.2494e-02,  9.1270e-02, -4.1793e-02, -6.9249e-02, -5.9285e-02],\n",
      "          [-1.1438e-01, -5.1687e-03, -9.7562e-02, -7.5620e-02,  2.3226e-02],\n",
      "          [-3.2276e-05,  6.9110e-03, -6.9991e-02, -2.9666e-02, -9.6323e-02]],\n",
      "\n",
      "         [[-1.1511e-01,  9.6922e-02, -8.2784e-02, -9.7121e-02,  2.8138e-02],\n",
      "          [-1.0416e-01,  1.0653e-01, -8.3826e-02,  7.3642e-02,  6.7204e-02],\n",
      "          [ 4.4635e-02, -6.4581e-02, -9.3340e-02, -5.5399e-02, -1.3735e-03],\n",
      "          [-7.3216e-02, -5.4274e-02,  5.0614e-02, -1.1226e-01, -1.2386e-02],\n",
      "          [ 4.9235e-02,  7.7173e-02, -1.1061e-01,  3.1477e-02,  5.8520e-02]]],\n",
      "\n",
      "\n",
      "        [[[-2.8361e-02,  7.9545e-02, -6.4543e-02, -6.1902e-02, -1.6110e-02],\n",
      "          [ 7.6549e-02, -6.7368e-02,  6.0869e-02, -6.2277e-02,  9.0747e-02],\n",
      "          [-6.2605e-03, -5.3923e-02, -9.0258e-02, -3.1461e-02,  1.0073e-01],\n",
      "          [-6.8564e-02, -6.5371e-05,  1.1182e-01,  9.0652e-02, -5.7011e-02],\n",
      "          [-9.8323e-02,  4.9687e-02,  9.0129e-02,  8.7287e-02, -6.2629e-02]],\n",
      "\n",
      "         [[ 3.7095e-02, -6.6096e-02,  9.1836e-02,  1.1500e-01, -9.8289e-02],\n",
      "          [ 1.0752e-01, -5.0104e-02,  1.3766e-03, -6.4650e-02, -8.8854e-02],\n",
      "          [ 5.0672e-02,  9.5470e-03,  2.3063e-02,  2.1787e-02, -8.6597e-02],\n",
      "          [-7.1475e-03, -4.2611e-02, -8.7920e-02, -8.9114e-02, -5.2546e-02],\n",
      "          [-8.4142e-02, -1.0808e-01,  8.7742e-02,  1.0833e-01,  8.0607e-02]],\n",
      "\n",
      "         [[-7.2330e-03, -1.3285e-02,  2.1425e-02, -9.4364e-02, -8.8508e-02],\n",
      "          [ 1.9428e-02, -6.0294e-02, -8.9351e-02, -1.9942e-02,  3.4801e-02],\n",
      "          [ 4.0576e-02, -9.1140e-02, -1.0630e-01,  1.2102e-02, -4.6561e-02],\n",
      "          [ 7.4935e-02, -1.1034e-01, -4.8229e-02,  4.4782e-02,  6.6985e-02],\n",
      "          [ 2.1246e-02,  3.5955e-02, -2.1048e-02,  6.4956e-02,  8.2107e-02]]],\n",
      "\n",
      "\n",
      "        [[[ 2.5768e-02,  5.1388e-02,  9.1836e-02,  1.1459e-01, -5.4391e-03],\n",
      "          [ 1.1214e-03, -2.1093e-02, -9.1900e-02,  9.1988e-03, -2.8316e-02],\n",
      "          [ 1.2514e-02, -7.8003e-02,  5.1637e-02,  1.6559e-02, -1.5594e-02],\n",
      "          [ 1.2762e-02,  9.0582e-02,  8.3035e-02, -2.3611e-02, -1.1117e-01],\n",
      "          [-2.2820e-02,  5.7690e-02, -6.2986e-03, -1.0852e-01, -9.8409e-02]],\n",
      "\n",
      "         [[ 7.6483e-02,  2.4073e-02,  3.6848e-02, -4.2991e-02, -4.1704e-02],\n",
      "          [ 1.7560e-02,  1.0143e-01,  2.9476e-02, -3.0840e-02, -6.1935e-02],\n",
      "          [-3.6079e-02, -8.3238e-02,  1.8990e-02,  8.7029e-02,  6.9077e-03],\n",
      "          [-1.2425e-02, -9.5458e-02, -2.9893e-03, -5.7799e-02, -1.0154e-02],\n",
      "          [ 2.7447e-02, -3.4900e-02, -6.0100e-02,  4.4248e-02,  9.5439e-02]],\n",
      "\n",
      "         [[ 1.1381e-01, -4.9984e-02,  6.1569e-02,  7.8087e-02,  8.3835e-02],\n",
      "          [-1.0768e-01, -4.7838e-02, -5.2710e-02, -1.0397e-01,  1.1347e-01],\n",
      "          [ 3.7639e-02,  7.0009e-02, -6.4258e-02,  1.0128e-01, -3.3997e-02],\n",
      "          [-1.3271e-02,  9.5741e-02,  5.2109e-02,  9.1140e-02,  1.1133e-01],\n",
      "          [-5.0976e-02, -2.1105e-02, -1.0626e-01,  7.4446e-02, -4.5531e-02]]],\n",
      "\n",
      "\n",
      "        [[[-7.9808e-03,  7.0541e-02,  4.8624e-02,  7.3629e-02,  5.7655e-02],\n",
      "          [-1.0356e-01,  2.4986e-02,  1.1072e-01, -1.0783e-02, -6.8637e-03],\n",
      "          [ 4.4054e-03,  2.1358e-02, -2.2761e-02,  1.2130e-02, -6.5143e-03],\n",
      "          [ 2.1280e-02, -6.2950e-02,  4.8796e-02,  3.7879e-02, -7.9337e-02],\n",
      "          [ 1.0004e-01,  7.5248e-02, -4.9023e-02, -8.8127e-02,  5.2109e-02]],\n",
      "\n",
      "         [[ 5.7914e-02,  3.7348e-02,  1.0095e-01,  1.2307e-02,  8.1939e-02],\n",
      "          [-1.0238e-01,  1.0469e-02,  9.3040e-02,  2.9952e-02, -7.9510e-02],\n",
      "          [-7.7387e-02,  1.0686e-01, -7.6858e-02, -5.9393e-02, -6.0629e-02],\n",
      "          [ 4.3097e-03,  4.5899e-02, -2.1376e-02,  5.3747e-02, -1.5207e-02],\n",
      "          [-1.9660e-02,  1.7149e-02, -8.7077e-02,  3.4818e-03,  2.4030e-02]],\n",
      "\n",
      "         [[ 1.0412e-01, -7.2813e-02,  7.5712e-02,  2.1949e-02, -3.9228e-02],\n",
      "          [ 4.3232e-02,  7.8996e-02,  2.6131e-02,  1.9232e-02,  1.0357e-01],\n",
      "          [ 4.6370e-02, -5.6519e-02,  7.4574e-02, -9.7344e-02, -3.9989e-02],\n",
      "          [ 2.8307e-02, -8.1991e-02, -4.9235e-02,  9.0459e-02,  9.0173e-02],\n",
      "          [ 4.1997e-02,  1.1016e-02,  1.0660e-01,  7.6283e-03,  3.0389e-02]]],\n",
      "\n",
      "\n",
      "        [[[ 1.0650e-01, -2.8812e-02,  5.3858e-02, -3.9356e-02, -7.3335e-03],\n",
      "          [ 8.0163e-02,  3.2518e-02, -3.1353e-02, -1.0156e-01, -4.0989e-02],\n",
      "          [-1.1364e-01, -3.1552e-02, -3.9568e-03,  1.0848e-01, -8.6143e-02],\n",
      "          [ 6.7590e-02,  5.4244e-02, -3.3199e-02, -9.4361e-02,  7.6651e-02],\n",
      "          [-8.9030e-02,  5.6297e-02, -6.9628e-02, -3.1957e-02, -3.6567e-02]],\n",
      "\n",
      "         [[-6.8335e-02,  8.4381e-02,  1.3970e-02,  8.3773e-02,  4.6086e-02],\n",
      "          [-1.4106e-02,  9.1290e-02, -2.8715e-02,  2.7988e-02, -3.4803e-02],\n",
      "          [-6.0853e-02, -2.8674e-02,  5.9326e-03, -8.0069e-02, -7.3164e-02],\n",
      "          [ 1.0615e-01,  1.0238e-01,  7.5119e-02, -6.6876e-02, -2.5591e-02],\n",
      "          [-1.0753e-01,  4.1453e-02, -2.4253e-03, -6.1347e-02, -1.3680e-02]],\n",
      "\n",
      "         [[ 9.9858e-02,  7.3776e-02, -3.5863e-02, -6.0818e-02, -1.8064e-02],\n",
      "          [ 8.0108e-02,  7.0629e-02,  6.8990e-02, -5.9909e-02,  8.8164e-02],\n",
      "          [ 5.8260e-02, -2.1006e-02, -8.0251e-02,  7.7773e-02,  7.1988e-02],\n",
      "          [-7.0592e-02, -7.8632e-02, -6.2091e-03, -9.7066e-02,  6.7556e-02],\n",
      "          [-8.9924e-02,  1.0051e-01,  5.0832e-02,  9.7287e-02,  7.8890e-03]]],\n",
      "\n",
      "\n",
      "        [[[-7.7458e-03, -3.0678e-02, -4.8270e-03, -1.0016e-01, -2.7631e-02],\n",
      "          [ 2.1887e-02,  8.6465e-02, -8.1064e-02,  6.9723e-02,  9.4452e-02],\n",
      "          [-3.0181e-02, -5.3827e-02, -7.6035e-02, -2.2717e-02,  2.9053e-02],\n",
      "          [-9.3725e-02, -2.9715e-03,  7.2544e-02, -6.5001e-02, -4.9188e-03],\n",
      "          [-4.8003e-02,  8.9482e-02, -3.2028e-02, -8.9463e-02,  1.0495e-02]],\n",
      "\n",
      "         [[ 1.4801e-02,  1.1321e-01, -8.8482e-02, -8.8252e-02,  2.1255e-02],\n",
      "          [-2.5757e-02, -6.1946e-02,  7.4298e-02,  8.9275e-02, -2.4047e-03],\n",
      "          [-2.2421e-02,  1.1178e-01, -7.0014e-02, -7.1197e-02,  8.0011e-02],\n",
      "          [ 7.1084e-02, -1.0600e-02, -3.7689e-02,  9.0086e-02, -1.6904e-02],\n",
      "          [ 1.7891e-02,  7.7190e-02, -1.1062e-01,  1.1210e-01,  1.0017e-01]],\n",
      "\n",
      "         [[-2.2340e-02, -1.0355e-01, -7.4383e-02,  5.1755e-02, -7.9793e-02],\n",
      "          [ 9.4905e-02, -1.0644e-01,  2.4560e-02, -4.9096e-02,  5.9794e-02],\n",
      "          [-1.0939e-01, -1.0478e-01,  8.1290e-03,  8.3824e-02, -6.1473e-02],\n",
      "          [ 1.1226e-01, -5.1410e-02,  4.8834e-02, -4.2176e-02, -1.1488e-01],\n",
      "          [-9.1227e-02,  9.7101e-02,  7.2650e-02, -4.7155e-02, -7.4273e-03]]],\n",
      "\n",
      "\n",
      "        [[[ 4.7095e-02,  4.5120e-02, -3.5348e-02,  4.8790e-02, -1.7586e-02],\n",
      "          [-6.1423e-02,  5.1943e-02, -1.0078e-01,  4.7620e-02,  9.2556e-02],\n",
      "          [ 1.1326e-02,  1.1486e-01,  4.5314e-02, -7.2677e-02,  1.0504e-01],\n",
      "          [ 5.4332e-02,  1.9104e-02, -1.1621e-02,  1.1242e-01, -4.7403e-02],\n",
      "          [-6.6316e-02,  1.1157e-01, -6.4038e-02,  4.2619e-03,  1.0472e-01]],\n",
      "\n",
      "         [[-8.9775e-02, -1.2739e-02, -6.7631e-02,  7.4028e-03,  1.0277e-01],\n",
      "          [-1.3049e-02,  5.8508e-02, -7.0298e-02,  8.2637e-02, -7.7641e-02],\n",
      "          [-1.1068e-01, -2.8992e-02,  3.0552e-02, -4.7113e-02,  8.5699e-02],\n",
      "          [-1.0978e-01,  9.2840e-02, -1.2889e-02, -4.1011e-02,  1.0579e-01],\n",
      "          [-2.8973e-02, -3.0809e-02, -1.1402e-01,  1.0835e-01, -5.3805e-03]],\n",
      "\n",
      "         [[ 9.1628e-02,  1.2132e-02,  9.9359e-02, -7.4719e-02, -5.1673e-02],\n",
      "          [ 8.8152e-02, -6.3538e-02, -4.7063e-02,  1.0660e-01,  2.8752e-02],\n",
      "          [ 4.3558e-02, -1.0352e-01,  6.3963e-02,  6.3353e-02,  1.1176e-01],\n",
      "          [-7.5757e-02, -4.4791e-02, -1.3920e-02,  3.8261e-03,  8.2299e-02],\n",
      "          [-1.0333e-01,  1.0461e-03,  5.5081e-02, -8.7104e-02,  9.9826e-02]]],\n",
      "\n",
      "\n",
      "        [[[ 1.8284e-02,  1.1522e-01, -1.1464e-01,  9.4012e-02, -2.7309e-02],\n",
      "          [-9.8724e-02, -5.1271e-02, -9.4376e-02,  1.0205e-01, -9.1614e-02],\n",
      "          [ 4.4849e-02, -7.1800e-03,  1.0780e-01, -3.6197e-02,  5.7563e-02],\n",
      "          [-2.5874e-02,  2.9304e-02, -7.2387e-02, -4.9076e-02, -9.3789e-02],\n",
      "          [ 6.6420e-02,  1.7865e-02, -9.1774e-02, -1.4020e-02, -6.2903e-02]],\n",
      "\n",
      "         [[-8.0456e-02,  4.6762e-02, -9.6789e-04, -1.4725e-02, -9.2195e-02],\n",
      "          [ 2.4571e-03, -2.4973e-02, -1.8497e-02, -4.2137e-02, -9.7149e-02],\n",
      "          [-9.8758e-02,  4.9012e-02,  1.1508e-01,  9.7598e-02, -3.1148e-02],\n",
      "          [ 7.7303e-02,  1.5493e-03,  1.1471e-01,  1.0036e-01,  1.1192e-01],\n",
      "          [-2.6700e-02, -5.5793e-02, -2.9912e-02, -9.4426e-03,  1.1728e-02]],\n",
      "\n",
      "         [[-9.0919e-02,  5.5369e-02, -6.3858e-02, -9.3779e-02, -2.1040e-02],\n",
      "          [-7.1525e-03, -2.7453e-02, -1.2099e-02, -6.9326e-02,  7.8147e-02],\n",
      "          [-7.2538e-02,  8.9775e-03, -1.7301e-02,  4.1880e-02, -4.6276e-02],\n",
      "          [-6.1091e-02,  5.1414e-02, -9.9036e-02,  6.0917e-02,  7.2449e-02],\n",
      "          [ 7.4476e-02,  1.0399e-01,  7.7208e-02,  1.0766e-01,  2.0852e-02]]],\n",
      "\n",
      "\n",
      "        [[[ 5.5074e-02, -6.0719e-02, -8.2917e-02, -2.1605e-02, -1.0935e-01],\n",
      "          [-6.3153e-02,  9.4287e-02,  3.8138e-02,  4.7423e-02,  6.0208e-03],\n",
      "          [-1.2095e-02,  9.8817e-02,  1.1287e-03, -8.9891e-02, -8.0971e-02],\n",
      "          [ 4.3949e-02, -4.7505e-02, -8.4220e-02, -2.7271e-02,  1.0744e-01],\n",
      "          [-9.1056e-02, -8.9019e-02, -2.3413e-02,  5.4677e-02, -1.0056e-01]],\n",
      "\n",
      "         [[-1.0364e-02, -7.9214e-03,  4.8435e-02, -7.9601e-02,  1.3221e-02],\n",
      "          [-1.0330e-01, -3.3529e-02, -2.9877e-02, -6.1855e-02,  4.6496e-02],\n",
      "          [ 4.8770e-02, -9.0771e-02, -2.9550e-02, -4.4739e-02, -7.6353e-03],\n",
      "          [ 1.5725e-02,  8.3406e-02,  7.2398e-02, -7.3478e-02, -2.9849e-03],\n",
      "          [ 1.4274e-02,  2.5503e-02,  1.5049e-02,  6.8013e-02,  5.6627e-02]],\n",
      "\n",
      "         [[-8.0681e-03,  8.8728e-02,  1.9535e-02, -7.3720e-02,  5.7104e-02],\n",
      "          [-5.7817e-02,  8.6448e-02, -5.6894e-02,  3.9793e-02, -8.4148e-02],\n",
      "          [ 8.7448e-02, -2.7047e-02, -4.6225e-02, -9.4267e-02,  1.0369e-01],\n",
      "          [-3.0828e-02, -7.1164e-03, -4.2770e-02, -4.8141e-02,  5.2087e-02],\n",
      "          [ 5.3838e-02,  9.4779e-02, -1.0896e-02, -5.5541e-02,  5.4766e-02]]],\n",
      "\n",
      "\n",
      "        [[[ 8.5864e-02, -9.0153e-02,  7.3481e-02, -5.7959e-02,  5.0781e-02],\n",
      "          [ 2.9990e-02, -6.1685e-02, -6.1297e-02, -1.0888e-01,  5.7464e-02],\n",
      "          [ 1.1097e-01,  8.7396e-02, -9.6369e-02,  9.8192e-02, -6.5941e-02],\n",
      "          [ 9.7304e-02, -1.9152e-02, -7.9232e-02,  3.1915e-02,  1.1162e-01],\n",
      "          [ 6.7859e-02,  3.4161e-02,  5.3666e-02,  4.2623e-02,  1.1479e-01]],\n",
      "\n",
      "         [[-5.5617e-02,  1.5022e-02,  1.0688e-01,  3.4009e-02, -4.5169e-02],\n",
      "          [-8.1449e-02, -1.1453e-01,  2.0362e-02, -2.0326e-02, -5.3736e-02],\n",
      "          [-7.8627e-02,  4.5531e-02, -6.2925e-02,  7.1066e-02, -1.1288e-01],\n",
      "          [-1.1305e-01,  5.9413e-04,  8.7214e-02,  5.0956e-02,  6.3539e-02],\n",
      "          [-1.1275e-01, -8.3257e-02,  2.3604e-02,  4.1043e-02, -8.6008e-02]],\n",
      "\n",
      "         [[-9.1652e-02, -4.7727e-02,  4.3170e-02,  1.0601e-01, -7.4071e-02],\n",
      "          [ 2.7710e-02,  1.0169e-01,  2.8646e-02, -3.8309e-03, -2.5370e-02],\n",
      "          [ 7.1599e-04, -8.2299e-02, -1.9664e-03,  1.9451e-02,  1.0081e-01],\n",
      "          [ 4.5133e-02, -7.7785e-02,  2.5922e-03, -6.5711e-03, -9.1900e-02],\n",
      "          [ 4.5317e-02,  2.9074e-02, -4.5209e-02, -9.0468e-02,  9.8202e-02]]]])), ('bias', tensor([-0.0758, -0.0558,  0.0394, -0.0448,  0.0399,  0.0674, -0.0590, -0.0546,\n",
      "        -0.0307,  0.0582]))])\n"
     ]
    }
   ],
   "source": [
    "print(conv_layer.state_dict())"
   ]
  },
  {
   "cell_type": "code",
   "execution_count": 101,
   "metadata": {},
   "outputs": [
    {
     "name": "stdout",
     "output_type": "stream",
     "text": [
      "conv_layer weight shape: torch.Size([10, 3, 5, 5])\n",
      "conv_layer bias shape: torch.Size([10])\n"
     ]
    }
   ],
   "source": [
    "# Get shapes of weight and bias tensors within conv_layer_2\n",
    "print(f\"conv_layer weight shape: {conv_layer.weight.shape}\")\n",
    "print(f\"conv_layer bias shape: {conv_layer.bias.shape}\")"
   ]
  },
  {
   "cell_type": "code",
   "execution_count": 99,
   "metadata": {},
   "outputs": [],
   "source": [
    "class TinyVGG(nn.Module):\n",
    "    \n",
    "    def __init__(self, input_shape: int, hidden_units: int, output_shape: int):\n",
    "        super().__init__()\n",
    "        self.block_1 = nn.Sequential(\n",
    "            nn.Conv2d(in_channels=input_shape, \n",
    "                      out_channels=hidden_units, \n",
    "                      kernel_size=3,\n",
    "                      stride=1,\n",
    "                      padding=1),# options are \"valid\" (no padding) or \"same\" (output has same shape as input) or int for specific number \n",
    "            nn.ReLU(),\n",
    "            nn.Conv2d(in_channels=hidden_units, \n",
    "                      out_channels=hidden_units,\n",
    "                      kernel_size=3,\n",
    "                      stride=1,\n",
    "                      padding=1),\n",
    "            nn.ReLU(),\n",
    "            nn.MaxPool2d(kernel_size=2,\n",
    "                         stride=2)\n",
    "        )\n",
    "        self.block_2 = nn.Sequential(\n",
    "            nn.Conv2d(hidden_units, hidden_units, 3, padding=1),\n",
    "            nn.ReLU(),\n",
    "            nn.Conv2d(hidden_units, hidden_units, 3, padding=1),\n",
    "            nn.ReLU(),\n",
    "            nn.MaxPool2d(2) # stride will be same as kernel size \n",
    "        )\n",
    "        self.fc = nn.Sequential(\n",
    "            nn.Flatten(),\n",
    "            nn.Linear(in_features=hidden_units*7*7, \n",
    "                      out_features=output_shape)\n",
    "        )\n",
    "    \n",
    "    def forward(self, x: torch.Tensor):\n",
    "        x = self.block_1(x)\n",
    "        # print(x.shape)\n",
    "        x = self.block_2(x)\n",
    "        # print(x.shape)\n",
    "        x = self.fc(x)\n",
    "        # print(x.shape)\n",
    "        return x\n"
   ]
  },
  {
   "cell_type": "code",
   "execution_count": 123,
   "metadata": {},
   "outputs": [
    {
     "name": "stdout",
     "output_type": "stream",
     "text": [
      "mps\n"
     ]
    }
   ],
   "source": [
    "print(device)"
   ]
  },
  {
   "cell_type": "code",
   "execution_count": 100,
   "metadata": {},
   "outputs": [
    {
     "data": {
      "text/plain": [
       "TinyVGG(\n",
       "  (block_1): Sequential(\n",
       "    (0): Conv2d(1, 10, kernel_size=(3, 3), stride=(1, 1), padding=(1, 1))\n",
       "    (1): ReLU()\n",
       "    (2): Conv2d(10, 10, kernel_size=(3, 3), stride=(1, 1), padding=(1, 1))\n",
       "    (3): ReLU()\n",
       "    (4): MaxPool2d(kernel_size=2, stride=2, padding=0, dilation=1, ceil_mode=False)\n",
       "  )\n",
       "  (block_2): Sequential(\n",
       "    (0): Conv2d(10, 10, kernel_size=(3, 3), stride=(1, 1), padding=(1, 1))\n",
       "    (1): ReLU()\n",
       "    (2): Conv2d(10, 10, kernel_size=(3, 3), stride=(1, 1), padding=(1, 1))\n",
       "    (3): ReLU()\n",
       "    (4): MaxPool2d(kernel_size=2, stride=2, padding=0, dilation=1, ceil_mode=False)\n",
       "  )\n",
       "  (fc): Sequential(\n",
       "    (0): Flatten(start_dim=1, end_dim=-1)\n",
       "    (1): Linear(in_features=490, out_features=10, bias=True)\n",
       "  )\n",
       ")"
      ]
     },
     "execution_count": 100,
     "metadata": {},
     "output_type": "execute_result"
    }
   ],
   "source": [
    "model_2 = TinyVGG(input_shape=1, \n",
    "                  hidden_units=10, \n",
    "                  output_shape=len(train_data.classes)).to(device)\n",
    "model_2"
   ]
  },
  {
   "cell_type": "code",
   "execution_count": 103,
   "metadata": {},
   "outputs": [],
   "source": [
    "loss_fn = nn.CrossEntropyLoss()\n",
    "optimizer = torch.optim.SGD(params=model_2.parameters(), lr=0.1)"
   ]
  },
  {
   "cell_type": "code",
   "execution_count": 104,
   "metadata": {},
   "outputs": [
    {
     "name": "stderr",
     "output_type": "stream",
     "text": [
      "  0%|          | 0/10 [00:00<?, ?it/s]"
     ]
    },
    {
     "name": "stdout",
     "output_type": "stream",
     "text": [
      "Epoch: 0\n",
      "Training loss: 0.56179 | Training accuracy: 79.89%\n"
     ]
    },
    {
     "name": "stderr",
     "output_type": "stream",
     "text": [
      " 10%|█         | 1/10 [00:11<01:42, 11.40s/it]"
     ]
    },
    {
     "name": "stdout",
     "output_type": "stream",
     "text": [
      "Testing loss: 0.44999 | Testing accuracy: 83.87%\n",
      "\n",
      "Epoch: 1\n"
     ]
    },
    {
     "name": "stderr",
     "output_type": "stream",
     "text": [
      " 20%|██        | 2/10 [00:20<01:18,  9.79s/it]"
     ]
    },
    {
     "name": "stdout",
     "output_type": "stream",
     "text": [
      "Training loss: 0.35251 | Training accuracy: 87.12%\n",
      "Epoch: 2\n",
      "Training loss: 0.31583 | Training accuracy: 88.58%\n"
     ]
    },
    {
     "name": "stderr",
     "output_type": "stream",
     "text": [
      " 30%|███       | 3/10 [00:29<01:07,  9.59s/it]"
     ]
    },
    {
     "name": "stdout",
     "output_type": "stream",
     "text": [
      "Testing loss: 0.33852 | Testing accuracy: 87.72%\n",
      "\n",
      "Epoch: 3\n"
     ]
    },
    {
     "name": "stderr",
     "output_type": "stream",
     "text": [
      " 40%|████      | 4/10 [00:37<00:54,  9.15s/it]"
     ]
    },
    {
     "name": "stdout",
     "output_type": "stream",
     "text": [
      "Training loss: 0.29477 | Training accuracy: 89.32%\n",
      "Epoch: 4\n",
      "Training loss: 0.28279 | Training accuracy: 89.69%\n"
     ]
    },
    {
     "name": "stderr",
     "output_type": "stream",
     "text": [
      " 50%|█████     | 5/10 [00:47<00:46,  9.32s/it]"
     ]
    },
    {
     "name": "stdout",
     "output_type": "stream",
     "text": [
      "Testing loss: 0.30407 | Testing accuracy: 89.15%\n",
      "\n",
      "Epoch: 5\n"
     ]
    },
    {
     "name": "stderr",
     "output_type": "stream",
     "text": [
      " 60%|██████    | 6/10 [00:56<00:36,  9.12s/it]"
     ]
    },
    {
     "name": "stdout",
     "output_type": "stream",
     "text": [
      "Training loss: 0.27007 | Training accuracy: 90.21%\n",
      "Epoch: 6\n",
      "Training loss: 0.26185 | Training accuracy: 90.46%\n"
     ]
    },
    {
     "name": "stderr",
     "output_type": "stream",
     "text": [
      " 70%|███████   | 7/10 [01:05<00:27,  9.26s/it]"
     ]
    },
    {
     "name": "stdout",
     "output_type": "stream",
     "text": [
      "Testing loss: 0.29719 | Testing accuracy: 89.26%\n",
      "\n",
      "Epoch: 7\n"
     ]
    },
    {
     "name": "stderr",
     "output_type": "stream",
     "text": [
      " 80%|████████  | 8/10 [01:14<00:18,  9.20s/it]"
     ]
    },
    {
     "name": "stdout",
     "output_type": "stream",
     "text": [
      "Training loss: 0.25566 | Training accuracy: 90.68%\n",
      "Epoch: 8\n",
      "Training loss: 0.25026 | Training accuracy: 90.81%\n"
     ]
    },
    {
     "name": "stderr",
     "output_type": "stream",
     "text": [
      " 90%|█████████ | 9/10 [01:24<00:09,  9.28s/it]"
     ]
    },
    {
     "name": "stdout",
     "output_type": "stream",
     "text": [
      "Testing loss: 0.28047 | Testing accuracy: 89.60%\n",
      "\n",
      "Epoch: 9\n"
     ]
    },
    {
     "name": "stderr",
     "output_type": "stream",
     "text": [
      "100%|██████████| 10/10 [01:32<00:00,  9.29s/it]"
     ]
    },
    {
     "name": "stdout",
     "output_type": "stream",
     "text": [
      "Training loss: 0.24461 | Training accuracy: 90.98%\n",
      "Train time on mps: 92.92 seconds\n"
     ]
    },
    {
     "name": "stderr",
     "output_type": "stream",
     "text": [
      "\n"
     ]
    }
   ],
   "source": [
    "train_time_start2 = timer()\n",
    "epochs = 10\n",
    "\n",
    "for epoch in tqdm(range(epochs)):\n",
    "    print(f\"Epoch: {epoch}\")\n",
    "\n",
    "    train_model(data_loader=train_dataloader, \n",
    "                model=model_2, \n",
    "                loss_fn=loss_fn,\n",
    "                optimizer=optimizer,\n",
    "                accuracy_fn=compute_accuracy\n",
    "    )\n",
    "    if epoch % 2 == 0:\n",
    "        test_model(model=model_2,\n",
    "                data_loader=test_dataloader,\n",
    "                loss_fn=loss_fn,\n",
    "                accuracy_fn=compute_accuracy\n",
    "        )\n",
    "\n",
    "train_time_end2 = timer()\n",
    "train_time_model_2 = print_train_time(start=train_time_start2, \n",
    "                                      end=train_time_end2,\n",
    "                                      device=device)"
   ]
  },
  {
   "cell_type": "code",
   "execution_count": 106,
   "metadata": {},
   "outputs": [],
   "source": [
    "# model 2 results on test set\n",
    "model_2_results = evaluate_model(model=model_2, \n",
    "                                 data_loader=test_dataloader,\n",
    "                                 loss_fn=loss_fn, \n",
    "                                 accuracy_fn=compute_accuracy,\n",
    "                                 device=device\n",
    ")"
   ]
  },
  {
   "cell_type": "code",
   "execution_count": 107,
   "metadata": {},
   "outputs": [
    {
     "name": "stdout",
     "output_type": "stream",
     "text": [
      "{'model_name': 'VanillaModel', 'model_loss': 0.4863521456718445, 'model_accuracy': 82.21845047923323}\n",
      "{'model_name': 'NonLinearModel', 'model_loss': 0.6520592570304871, 'model_accuracy': 76.15814696485623}\n",
      "{'model_name': 'TinyVGG', 'model_loss': 0.27602726221084595, 'model_accuracy': 89.94608626198082}\n"
     ]
    }
   ],
   "source": [
    "print(model_0_results)\n",
    "print(model_1_results)\n",
    "print(model_2_results)"
   ]
  },
  {
   "cell_type": "code",
   "execution_count": 111,
   "metadata": {},
   "outputs": [
    {
     "data": {
      "text/html": [
       "<div>\n",
       "<style scoped>\n",
       "    .dataframe tbody tr th:only-of-type {\n",
       "        vertical-align: middle;\n",
       "    }\n",
       "\n",
       "    .dataframe tbody tr th {\n",
       "        vertical-align: top;\n",
       "    }\n",
       "\n",
       "    .dataframe thead th {\n",
       "        text-align: right;\n",
       "    }\n",
       "</style>\n",
       "<table border=\"1\" class=\"dataframe\">\n",
       "  <thead>\n",
       "    <tr style=\"text-align: right;\">\n",
       "      <th></th>\n",
       "      <th>model_name</th>\n",
       "      <th>model_loss</th>\n",
       "      <th>model_accuracy</th>\n",
       "      <th>training_time</th>\n",
       "    </tr>\n",
       "  </thead>\n",
       "  <tbody>\n",
       "    <tr>\n",
       "      <th>0</th>\n",
       "      <td>VanillaModel</td>\n",
       "      <td>0.486352</td>\n",
       "      <td>82.218450</td>\n",
       "      <td>16.274404</td>\n",
       "    </tr>\n",
       "    <tr>\n",
       "      <th>1</th>\n",
       "      <td>NonLinearModel</td>\n",
       "      <td>0.652059</td>\n",
       "      <td>76.158147</td>\n",
       "      <td>59.089668</td>\n",
       "    </tr>\n",
       "    <tr>\n",
       "      <th>2</th>\n",
       "      <td>TinyVGG</td>\n",
       "      <td>0.276027</td>\n",
       "      <td>89.946086</td>\n",
       "      <td>92.918005</td>\n",
       "    </tr>\n",
       "  </tbody>\n",
       "</table>\n",
       "</div>"
      ],
      "text/plain": [
       "       model_name  model_loss  model_accuracy  training_time\n",
       "0    VanillaModel    0.486352       82.218450      16.274404\n",
       "1  NonLinearModel    0.652059       76.158147      59.089668\n",
       "2         TinyVGG    0.276027       89.946086      92.918005"
      ]
     },
     "execution_count": 111,
     "metadata": {},
     "output_type": "execute_result"
    }
   ],
   "source": [
    "results_df = pd.DataFrame([model_0_results, model_1_results, model_2_results])\n",
    "results_df[\"training_time\"] = [train_time_model_0, train_time_model_1, train_time_model_2]\n",
    "results_df"
   ]
  },
  {
   "cell_type": "code",
   "execution_count": 112,
   "metadata": {},
   "outputs": [],
   "source": [
    "def make_predictions(model: torch.nn.Module, data: list, device: torch.device = device):\n",
    "    pred_probs = []\n",
    "    model.eval()\n",
    "\n",
    "    with torch.inference_mode():\n",
    "        for sample in data:\n",
    "            sample = torch.unsqueeze(sample, dim=0).to(device)\n",
    "\n",
    "            # model output is logit\n",
    "            pred_logit = model(sample)\n",
    "            pred_prob = torch.softmax(pred_logit.squeeze(), dim=0)\n",
    "            pred_probs.append(pred_prob.cpu())\n",
    "            \n",
    "    return torch.stack(pred_probs)"
   ]
  },
  {
   "cell_type": "code",
   "execution_count": 114,
   "metadata": {},
   "outputs": [
    {
     "name": "stdout",
     "output_type": "stream",
     "text": [
      "Test sample image shape: torch.Size([1, 28, 28])\n",
      "Test sample label: 5 (Sandal)\n"
     ]
    }
   ],
   "source": [
    "test_samples = []\n",
    "test_labels = []\n",
    "\n",
    "for sample, label in random.sample(list(test_data), k=9):\n",
    "    test_samples.append(sample)\n",
    "    test_labels.append(label)\n",
    "\n",
    "print(f\"Test sample image shape: {test_samples[0].shape}\\nTest sample label: {test_labels[0]} ({train_data.classes[test_labels[0]]})\")"
   ]
  },
  {
   "cell_type": "code",
   "execution_count": 115,
   "metadata": {},
   "outputs": [
    {
     "name": "stdout",
     "output_type": "stream",
     "text": [
      "9\n",
      "tensor([6.8725e-07, 4.2128e-09, 3.3301e-07, 1.1767e-06, 3.3763e-08, 9.9993e-01,\n",
      "        8.5558e-09, 5.6176e-06, 6.2840e-05, 1.6761e-07])\n"
     ]
    }
   ],
   "source": [
    "pred_probs= make_predictions(model=model_2, \n",
    "                             data=test_samples)\n",
    "\n",
    "print(len(pred_probs))\n",
    "print(pred_probs[0])"
   ]
  },
  {
   "cell_type": "code",
   "execution_count": 117,
   "metadata": {},
   "outputs": [
    {
     "name": "stdout",
     "output_type": "stream",
     "text": [
      "tensor([5, 6, 2, 7, 2, 2, 4, 5, 0])\n",
      "[5, 4, 4, 7, 2, 2, 4, 5, 0]\n"
     ]
    }
   ],
   "source": [
    "pred_classes = pred_probs.argmax(dim=1)\n",
    "print(pred_classes)\n",
    "print(test_labels)"
   ]
  },
  {
   "cell_type": "code",
   "execution_count": 122,
   "metadata": {},
   "outputs": [
    {
     "data": {
      "image/png": "[encoded data removed]",
      "text/plain": [
       "<Figure size 600x600 with 9 Axes>"
      ]
     },
     "metadata": {},
     "output_type": "display_data"
    }
   ],
   "source": [
    "plt.figure(figsize=(6, 6))\n",
    "nrows = 3\n",
    "ncols = 3\n",
    "for i, sample in enumerate(test_samples):\n",
    "    plt.subplot(nrows, ncols, i+1)\n",
    "    plt.imshow(sample.squeeze(), cmap=\"gray\")\n",
    "\n",
    "    pred_label = train_data.classes[pred_classes[i]]\n",
    "    truth_label = train_data.classes[test_labels[i]] \n",
    "\n",
    "    title_text = f\"Pred: {pred_label} | Truth: {truth_label}\"\n",
    "\n",
    "    if pred_label == truth_label:\n",
    "        plt.title(title_text, fontsize=7, c=\"green\")\n",
    "    else:\n",
    "        plt.title(title_text, fontsize=7, c=\"red\")\n",
    "\n",
    "    plt.axis(False)"
   ]
  },
  {
   "cell_type": "code",
   "execution_count": 124,
   "metadata": {},
   "outputs": [
    {
     "name": "stderr",
     "output_type": "stream",
     "text": [
      "Making predictions: 100%|██████████| 313/313 [00:00<00:00, 343.17it/s]\n"
     ]
    },
    {
     "data": {
      "text/plain": [
       "torch.Size([10000])"
      ]
     },
     "execution_count": 124,
     "metadata": {},
     "output_type": "execute_result"
    }
   ],
   "source": [
    "y_preds = []\n",
    "model_2.eval()\n",
    "with torch.inference_mode():\n",
    "  for X, y in tqdm(test_dataloader, desc=\"Making predictions\"):\n",
    "    X, y = X.to(device), y.to(device)\n",
    "    y_logit = model_2(X)\n",
    "    # logits -> pred probs -> pred labels\n",
    "    # perform softmax on the logits dimension\n",
    "    y_pred = torch.softmax(y_logit, dim=1).argmax(dim=1)\n",
    "    y_preds.append(y_pred.cpu())\n",
    "\n",
    "y_pred_tensor = torch.cat(y_preds)\n",
    "y_pred_tensor.shape"
   ]
  },
  {
   "cell_type": "code",
   "execution_count": 127,
   "metadata": {},
   "outputs": [
    {
     "data": {
      "image/png": "[encoded data removed]",
      "text/plain": [
       "<Figure size 1000x700 with 1 Axes>"
      ]
     },
     "metadata": {},
     "output_type": "display_data"
    }
   ],
   "source": [
    "conf_mat = ConfusionMatrix(num_classes=len(train_data.classes), task='multiclass')\n",
    "conf_mat_tensor = conf_mat(preds=y_pred_tensor,\n",
    "                           target=test_data.targets)\n",
    "\n",
    "fig, ax = plot_confusion_matrix(conf_mat=conf_mat_tensor.numpy(),\n",
    "                                class_names=train_data.classes,\n",
    "                                figsize=(10, 7))"
   ]
  },
  {
   "cell_type": "code",
   "execution_count": null,
   "metadata": {},
   "outputs": [],
   "source": [
    "torch.save(obj=model_2.state_dict(), f=\"./model2.pth\")"
   ]
  }
 ],
 "metadata": {
  "kernelspec": {
   "display_name": ".venv",
   "language": "python",
   "name": "python3"
  },
  "language_info": {
   "codemirror_mode": {
    "name": "ipython",
    "version": 3
   },
   "file_extension": ".py",
   "mimetype": "text/x-python",
   "name": "python",
   "nbconvert_exporter": "python",
   "pygments_lexer": "ipython3",
   "version": "3.11.3"
  }
 },
 "nbformat": 4,
 "nbformat_minor": 2
}
