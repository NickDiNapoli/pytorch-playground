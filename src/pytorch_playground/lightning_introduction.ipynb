{
 "cells": [
  {
   "cell_type": "code",
   "execution_count": 1,
   "metadata": {},
   "outputs": [],
   "source": [
    "import torch  \n",
    "import torch.nn as nn   \n",
    "import pytorch_lightning as pl \n",
    "\n",
    "from torchmetrics import Accuracy \n",
    "from torch.utils.data import DataLoader \n",
    "from torch.utils.data import random_split \n",
    "from torchvision.datasets import MNIST \n",
    "from torchvision import transforms\n",
    "from pytorch_lightning.loggers import TensorBoardLogger"
   ]
  },
  {
   "cell_type": "code",
   "execution_count": 2,
   "metadata": {},
   "outputs": [],
   "source": [
    "class MultiLayerPerceptron(pl.LightningModule): \n",
    "\n",
    "    def __init__(self,image_shape=(1, 28, 28), hidden_units=(32, 16)): \n",
    "        super().__init__()      \n",
    "        self.train_acc = Accuracy(task=\"multiclass\", num_classes=10) \n",
    "        self.valid_acc = Accuracy(task=\"multiclass\", num_classes=10) \n",
    "        self.test_acc = Accuracy(task=\"multiclass\", num_classes=10)     \n",
    "\n",
    "        input_size = image_shape[0] * image_shape[1] * image_shape[2] \n",
    "        all_layers = [nn.Flatten()] \n",
    "\n",
    "        for hidden_unit in hidden_units:  \n",
    "            layer = nn.Linear(input_size, hidden_unit)  \n",
    "            all_layers.append(layer)  \n",
    "            all_layers.append(nn.ReLU())  \n",
    "            input_size = hidden_unit \n",
    "\n",
    "        all_layers.append(nn.Linear(hidden_units[-1], 10))  \n",
    "        all_layers.append(nn.Softmax(dim=1))  \n",
    "        self.model = nn.Sequential(*all_layers)  \n",
    "\n",
    "\n",
    "    def forward(self, x): \n",
    "        x = self.model(x) \n",
    "\n",
    "        return x \n",
    "    \n",
    "    \n",
    "    def training_step(self, batch, batch_idx): \n",
    "        x, y = batch \n",
    "        logits = self(x) \n",
    "        loss = nn.functional.cross_entropy(self(x), y) \n",
    "        preds = torch.argmax(logits, dim=1) \n",
    "        self.train_acc.update(preds, y) \n",
    "        self.log(\"train_loss\", loss, prog_bar=True) \n",
    "\n",
    "        return loss \n",
    "    \n",
    "    \n",
    "    def on_train_epoch_end(self): \n",
    "        self.log(\"train_acc\", self.train_acc.compute())   \n",
    "\n",
    "\n",
    "    def validation_step(self, batch, batch_idx): \n",
    "        x, y = batch \n",
    "        logits = self(x) \n",
    "        loss = nn.functional.cross_entropy(self(x), y) \n",
    "        preds = torch.argmax(logits, dim=1) \n",
    "        self.valid_acc.update(preds, y) \n",
    "        self.log(\"valid_loss\", loss, prog_bar=True) \n",
    "        self.log(\"valid_acc\", self.valid_acc.compute(), prog_bar=True) \n",
    "\n",
    "        return loss  \n",
    "    \n",
    "\n",
    "    def test_step(self, batch, batch_idx): \n",
    "        x, y = batch \n",
    "        logits = self(x) \n",
    "        loss = nn.functional.cross_entropy(self(x), y) \n",
    "        preds = torch.argmax(logits, dim=1) \n",
    "        self.test_acc.update(preds, y) \n",
    "        self.log(\"test_loss\", loss, prog_bar=True) \n",
    "        self.log(\"test_acc\", self.test_acc.compute(), prog_bar=True) \n",
    "\n",
    "        return loss  \n",
    "    \n",
    "    \n",
    "    def configure_optimizers(self): \n",
    "        optimizer = torch.optim.Adam(self.parameters(), lr=0.001) \n",
    "        \n",
    "        return optimizer"
   ]
  },
  {
   "cell_type": "code",
   "execution_count": 3,
   "metadata": {},
   "outputs": [],
   "source": [
    "class MnistDataModule(pl.LightningDataModule): \n",
    "\n",
    "    def __init__(self, data_path='./data'): \n",
    "        super().__init__() \n",
    "        self.data_path = data_path \n",
    "        self.transform = transforms.Compose([transforms.ToTensor()])  \n",
    "\n",
    "\n",
    "    def prepare_data(self): \n",
    "        MNIST(root=self.data_path, download=True)   \n",
    "\n",
    "\n",
    "    def setup(self, stage=None): \n",
    "        # stage is either 'fit', 'validate', 'test', or 'predict' \n",
    "        mnist_all = MNIST(  \n",
    "            root=self.data_path, \n",
    "            train=True, \n",
    "            transform=self.transform,   \n",
    "            download=False \n",
    "        )   \n",
    "        self.train, self.val = random_split( \n",
    "            mnist_all, [55000, 5000], generator=torch.Generator().manual_seed(1) \n",
    "        )  \n",
    "        self.test = MNIST(  \n",
    "            root=self.data_path, \n",
    "            train=False, \n",
    "            transform=self.transform,   \n",
    "            download=False \n",
    "        )   \n",
    "\n",
    "\n",
    "    def train_dataloader(self): \n",
    "        return DataLoader(self.train, batch_size=64, num_workers=4)  \n",
    "    \n",
    "\n",
    "    def val_dataloader(self): \n",
    "        return DataLoader(self.val, batch_size=64, num_workers=4)  \n",
    "    \n",
    "    \n",
    "    def test_dataloader(self): \n",
    "        return DataLoader(self.test, batch_size=64, num_workers=4)"
   ]
  },
  {
   "cell_type": "code",
   "execution_count": 4,
   "metadata": {},
   "outputs": [
    {
     "name": "stderr",
     "output_type": "stream",
     "text": [
      "GPU available: True (mps), used: True\n",
      "TPU available: False, using: 0 TPU cores\n",
      "HPU available: False, using: 0 HPUs\n",
      "\n",
      "  | Name      | Type               | Params | Mode \n",
      "---------------------------------------------------------\n",
      "0 | train_acc | MulticlassAccuracy | 0      | train\n",
      "1 | valid_acc | MulticlassAccuracy | 0      | train\n",
      "2 | test_acc  | MulticlassAccuracy | 0      | train\n",
      "3 | model     | Sequential         | 25.8 K | train\n",
      "---------------------------------------------------------\n",
      "25.8 K    Trainable params\n",
      "0         Non-trainable params\n",
      "25.8 K    Total params\n",
      "0.103     Total estimated model params size (MB)\n",
      "11        Modules in train mode\n",
      "0         Modules in eval mode\n"
     ]
    },
    {
     "name": "stdout",
     "output_type": "stream",
     "text": [
      "Sanity Checking: |          | 0/? [00:00<?, ?it/s]"
     ]
    },
    {
     "name": "stderr",
     "output_type": "stream",
     "text": [
      "/Users/nickdinapoli/github/pytorch-playground/.conda/lib/python3.11/site-packages/pytorch_lightning/trainer/connectors/data_connector.py:419: Consider setting `persistent_workers=True` in 'val_dataloader' to speed up the dataloader worker initialization.\n"
     ]
    },
    {
     "name": "stdout",
     "output_type": "stream",
     "text": [
      "                                                                           \r"
     ]
    },
    {
     "name": "stderr",
     "output_type": "stream",
     "text": [
      "/Users/nickdinapoli/github/pytorch-playground/.conda/lib/python3.11/site-packages/pytorch_lightning/trainer/connectors/data_connector.py:419: Consider setting `persistent_workers=True` in 'train_dataloader' to speed up the dataloader worker initialization.\n"
     ]
    },
    {
     "name": "stdout",
     "output_type": "stream",
     "text": [
      "Epoch 9: 100%|██████████| 860/860 [00:09<00:00, 89.43it/s, v_num=0, train_loss=1.590, valid_loss=1.520, valid_acc=0.927] "
     ]
    },
    {
     "name": "stderr",
     "output_type": "stream",
     "text": [
      "`Trainer.fit` stopped: `max_epochs=10` reached.\n"
     ]
    },
    {
     "name": "stdout",
     "output_type": "stream",
     "text": [
      "Epoch 9: 100%|██████████| 860/860 [00:09<00:00, 89.36it/s, v_num=0, train_loss=1.590, valid_loss=1.520, valid_acc=0.927]\n"
     ]
    }
   ],
   "source": [
    "torch.manual_seed(1)  \n",
    "mnist_dm = MnistDataModule()\n",
    "\n",
    "mnistclassifier = MultiLayerPerceptron()  \n",
    "logger = TensorBoardLogger(\"lightning_logs/\")\n",
    "\n",
    "if torch.cuda.is_available():\n",
    "    trainer = pl.Trainer(max_epochs=10, devices=1, accelerator='gpu', logger=logger)\n",
    "\n",
    "elif torch.backends.mps.is_available():\n",
    "    trainer = pl.Trainer(max_epochs=10, devices=1, accelerator='mps', logger=logger)\n",
    "\n",
    "else: \n",
    "    trainer = pl.Trainer(max_epochs=10, logger=logger)\n",
    "      \n",
    "trainer.fit(model=mnistclassifier, datamodule=mnist_dm)"
   ]
  },
  {
   "cell_type": "code",
   "execution_count": 5,
   "metadata": {},
   "outputs": [
    {
     "name": "stdout",
     "output_type": "stream",
     "text": [
      "TensorFlow installation not found - running with reduced feature set.\n",
      "Serving TensorBoard on localhost; to expose to the network, use a proxy or pass --bind_all\n",
      "TensorBoard 2.18.0 at http://localhost:6006/ (Press CTRL+C to quit)\n",
      "^C\n"
     ]
    }
   ],
   "source": [
    "# Run in terminal or here: \n",
    "!tensorboard --logdir lightning_logs/"
   ]
  },
  {
   "cell_type": "code",
   "execution_count": 7,
   "metadata": {},
   "outputs": [
    {
     "name": "stdout",
     "output_type": "stream",
     "text": [
      "The tensorboard extension is already loaded. To reload it, use:\n",
      "  %reload_ext tensorboard\n"
     ]
    },
    {
     "data": {
      "text/plain": [
       "Reusing TensorBoard on port 6006 (pid 28314), started 0:00:06 ago. (Use '!kill 28314' to kill it.)"
      ]
     },
     "metadata": {},
     "output_type": "display_data"
    },
    {
     "data": {
      "text/html": [
       "\n",
       "      <iframe id=\"tensorboard-frame-44117fc3541c2af8\" width=\"100%\" height=\"800\" frameborder=\"0\">\n",
       "      </iframe>\n",
       "      <script>\n",
       "        (function() {\n",
       "          const frame = document.getElementById(\"tensorboard-frame-44117fc3541c2af8\");\n",
       "          const url = new URL(\"http://localhost\");\n",
       "          const port = 6006;\n",
       "          if (port) {\n",
       "            url.port = port;\n",
       "          }\n",
       "          frame.src = url;\n",
       "        })();\n",
       "      </script>\n",
       "    "
      ],
      "text/plain": [
       "<IPython.core.display.HTML object>"
      ]
     },
     "metadata": {},
     "output_type": "display_data"
    }
   ],
   "source": [
    "%load_ext tensorboard\n",
    "%tensorboard --logdir lightning_logs/"
   ]
  },
  {
   "cell_type": "code",
   "execution_count": null,
   "metadata": {},
   "outputs": [],
   "source": []
  }
 ],
 "metadata": {
  "kernelspec": {
   "display_name": "Python 3",
   "language": "python",
   "name": "python3"
  },
  "language_info": {
   "codemirror_mode": {
    "name": "ipython",
    "version": 3
   },
   "file_extension": ".py",
   "mimetype": "text/x-python",
   "name": "python",
   "nbconvert_exporter": "python",
   "pygments_lexer": "ipython3",
   "version": "3.11.10"
  }
 },
 "nbformat": 4,
 "nbformat_minor": 2
}
